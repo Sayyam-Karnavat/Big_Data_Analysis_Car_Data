{
 "cells": [
  {
   "cell_type": "markdown",
   "metadata": {},
   "source": [
    "# Car Dataset"
   ]
  },
  {
   "cell_type": "code",
   "execution_count": null,
   "metadata": {},
   "outputs": [],
   "source": [
    "import pandas as pd\n",
    "import numpy as np\n",
    "import matplotlib.pyplot as plt\n",
    "from scipy import stats\n",
    "from scipy.cluster.hierarchy import dendrogram, linkage"
   ]
  },
  {
   "cell_type": "code",
   "execution_count": null,
   "metadata": {},
   "outputs": [],
   "source": [
    "car = pd.read_csv(\"cardata.csv\")\n",
    "carc = car.copy()# creates a copy of car dataset"
   ]
  },
  {
   "cell_type": "code",
   "execution_count": null,
   "metadata": {},
   "outputs": [],
   "source": [
    "carc.head() # Shows first five entries of data"
   ]
  },
  {
   "cell_type": "code",
   "execution_count": null,
   "metadata": {},
   "outputs": [],
   "source": [
    "carc.shape # gives total rows and columns 432 are total rows and 15 are columns"
   ]
  },
  {
   "cell_type": "code",
   "execution_count": null,
   "metadata": {},
   "outputs": [],
   "source": []
  },
  {
   "cell_type": "code",
   "execution_count": null,
   "metadata": {},
   "outputs": [],
   "source": [
    "carc.isnull().sum() #to check null values in dataset and gives sum of all enteries in column that are null"
   ]
  },
  {
   "cell_type": "markdown",
   "metadata": {},
   "source": [
    "# Data Cleaning \n",
    "Filling in missing values"
   ]
  },
  {
   "cell_type": "code",
   "execution_count": null,
   "metadata": {},
   "outputs": [],
   "source": [
    "#.mean() is used for filling missing values for numeric entries only\n",
    "carc['EngineSize'].fillna(carc['EngineSize'].mean() , inplace = True) # inplace = True is used to make changes permanently\n",
    "carc['Cylinders'].fillna(carc['Cylinders'].mean() , inplace = True)\n",
    "carc['Horsepower'].fillna(carc['Horsepower'].mean() , inplace = True)\n",
    "carc['MPG_City'].fillna(carc['MPG_City'].mean() , inplace = True)\n",
    "carc['MPG_Highway'].fillna(carc['MPG_Highway'].mean() , inplace = True)\n",
    "carc['Weight'].fillna(carc['Weight'].mean() , inplace = True)\n",
    "carc['Wheelbase'].fillna(carc['Wheelbase'].mean() , inplace = True)\n",
    "carc['Length'].fillna(carc['Length'].mean() , inplace = True)"
   ]
  },
  {
   "cell_type": "code",
   "execution_count": null,
   "metadata": {},
   "outputs": [],
   "source": []
  },
  {
   "cell_type": "code",
   "execution_count": null,
   "metadata": {},
   "outputs": [],
   "source": [
    "# Invoice and MSRP columns were float parsed as string hence used 0 to fill Null values\n",
    "carc['Invoice'].fillna(0, inplace = True) # fills NA value by 0 \n",
    "carc['MSRP'].fillna(0 , inplace = True)"
   ]
  },
  {
   "cell_type": "markdown",
   "metadata": {},
   "source": [
    "# Delete remaining rows with null values"
   ]
  },
  {
   "cell_type": "code",
   "execution_count": null,
   "metadata": {},
   "outputs": [],
   "source": [
    "# For Categorial data we can drops the rows with null values\n",
    "carc.dropna(inplace = True) #Drops all rows that have atleast one null valued attribute "
   ]
  },
  {
   "cell_type": "markdown",
   "metadata": {},
   "source": [
    "# Count of attributes"
   ]
  },
  {
   "cell_type": "code",
   "execution_count": 1,
   "metadata": {},
   "outputs": [
    {
     "ename": "NameError",
     "evalue": "name 'carc' is not defined",
     "output_type": "error",
     "traceback": [
      "\u001b[1;31m---------------------------------------------------------------------------\u001b[0m",
      "\u001b[1;31mNameError\u001b[0m                                 Traceback (most recent call last)",
      "\u001b[1;32m<ipython-input-1-68777746a39b>\u001b[0m in \u001b[0;36m<module>\u001b[1;34m\u001b[0m\n\u001b[1;32m----> 1\u001b[1;33m \u001b[0mcarc\u001b[0m\u001b[1;33m[\u001b[0m\u001b[1;34m'Make'\u001b[0m\u001b[1;33m]\u001b[0m\u001b[1;33m.\u001b[0m\u001b[0mvalue_counts\u001b[0m\u001b[1;33m(\u001b[0m\u001b[1;33m)\u001b[0m \u001b[1;31m# Gives occurence of every elements in specific\u001b[0m\u001b[1;33m\u001b[0m\u001b[1;33m\u001b[0m\u001b[0m\n\u001b[0m",
      "\u001b[1;31mNameError\u001b[0m: name 'carc' is not defined"
     ]
    }
   ],
   "source": [
    "carc['Make'].value_counts() # Gives occurence of every elements in specific"
   ]
  },
  {
   "cell_type": "markdown",
   "metadata": {},
   "source": [
    "#  Show all records where Type is SUV or sports"
   ]
  },
  {
   "cell_type": "code",
   "execution_count": null,
   "metadata": {},
   "outputs": [],
   "source": [
    "carc['Type'].unique() # To get all attributes in a column\n",
    "carc[carc['Type'].isin(['SUV','Sports'])]"
   ]
  },
  {
   "cell_type": "markdown",
   "metadata": {},
   "source": [
    "# Removing unwanted rows"
   ]
  },
  {
   "cell_type": "code",
   "execution_count": null,
   "metadata": {
    "scrolled": true
   },
   "outputs": [],
   "source": [
    "carc[~(carc['Weight'] > 4000)] # ~ is used removes attributes where weight is greater than 4000 "
   ]
  },
  {
   "cell_type": "markdown",
   "metadata": {},
   "source": [
    "# Updating a value according to condition"
   ]
  },
  {
   "cell_type": "code",
   "execution_count": null,
   "metadata": {},
   "outputs": [],
   "source": [
    "# increase Length by 20\n",
    "\n",
    "carc['Length'] = carc['Length'].apply(lambda x : x + 20)\n",
    "carc['Length']"
   ]
  },
  {
   "cell_type": "markdown",
   "metadata": {},
   "source": [
    "# Miscellaneous Functions for Big data analysis"
   ]
  },
  {
   "cell_type": "markdown",
   "metadata": {},
   "source": [
    "1.Scatter Plot"
   ]
  },
  {
   "cell_type": "code",
   "execution_count": null,
   "metadata": {},
   "outputs": [],
   "source": [
    "# Scatter Plot wheelbase vs length\n",
    "cylinders = carc['Cylinders'].tolist()\n",
    "horsepower = carc['Horsepower'].tolist()\n",
    "plt.scatter(cylinders,horsepower)\n",
    "plt.show()\n"
   ]
  },
  {
   "cell_type": "markdown",
   "metadata": {},
   "source": [
    "2.Linear Regression"
   ]
  },
  {
   "cell_type": "code",
   "execution_count": null,
   "metadata": {},
   "outputs": [],
   "source": [
    "# linear regression wheelbase vs length\n",
    "wheelbase = carc['Wheelbase'].tolist()\n",
    "length =carc['Length'].tolist()\n",
    "\n",
    "slope, intercept, r, p, std_err = stats.linregress(wheelbase, length)\n",
    "# r gives realtion value if 1 then direct relation , -1 for inverse relation , 0 for no relation\n",
    "\n",
    "def myfunc(x):\n",
    "    return slope * x + intercept\n",
    "\n",
    "mymodel = list(map(myfunc, wheelbase))\n",
    "\n",
    "plt.scatter(wheelbase, length)\n",
    "plt.plot(wheelbase, mymodel)\n",
    "plt.show()\n",
    "\n",
    "# Using linear regression we can predict future values \n",
    "predict_length = myfunc(100) # i.e predict length when wheel base is 100\n",
    "print(f\"Predicted length is {predict_length} for Wheel base of 100\")"
   ]
  },
  {
   "cell_type": "markdown",
   "metadata": {},
   "source": [
    "3.Poylnomial Regression"
   ]
  },
  {
   "cell_type": "code",
   "execution_count": null,
   "metadata": {},
   "outputs": [],
   "source": [
    "#Polynomial Regression\n",
    "mpg_city = carc['MPG_City'][:50].tolist()\n",
    "mpg_highway = carc['MPG_Highway'][:50].tolist()\n",
    "\n",
    "mpg_city = [ int(item) for item in mpg_city]# conversion to int \n",
    "mpg_highway = [ int(item) for item in mpg_highway]# conversion to int\n",
    "\n",
    "mymodel = numpy.poly1d(numpy.polyfit(mpg_city, mpg_highway, 3))#specify how the line will display\n",
    "\n",
    "myline = numpy.linspace(mpg_city[0], mpg_city[-1], mpg_highway[-1])\n",
    "\n",
    "plt.scatter(enginesize, horsepower)\n",
    "plt.plot(myline, mymodel(myline))\n",
    "plt.show()\n",
    "#Here polynomial regression doesnt fit well"
   ]
  },
  {
   "cell_type": "markdown",
   "metadata": {},
   "source": [
    "4. Percentiles"
   ]
  },
  {
   "cell_type": "code",
   "execution_count": null,
   "metadata": {},
   "outputs": [],
   "source": [
    "# Percentiles\n",
    "\n",
    "#For EngineSize\n",
    "enginesize = carc['EngineSize'].tolist()\n",
    "x = np.percentile(enginesize, 70)\n",
    "print(f\"90% of Engine are {x} kgs in size\")\n",
    "\n",
    "\n",
    "\n",
    "# For Weight\n",
    "horsepower = carc['Horsepower'].tolist()\n",
    "y = np.percentile(horsepower, 50)\n",
    "print(f\"50% of Cars have a  {y} Horsepower \")\n",
    "\n",
    "\n"
   ]
  },
  {
   "cell_type": "code",
   "execution_count": null,
   "metadata": {},
   "outputs": [],
   "source": []
  }
 ],
 "metadata": {
  "kernelspec": {
   "display_name": "Python 3",
   "language": "python",
   "name": "python3"
  },
  "language_info": {
   "codemirror_mode": {
    "name": "ipython",
    "version": 3
   },
   "file_extension": ".py",
   "mimetype": "text/x-python",
   "name": "python",
   "nbconvert_exporter": "python",
   "pygments_lexer": "ipython3",
   "version": "3.7.6"
  }
 },
 "nbformat": 4,
 "nbformat_minor": 4
}
